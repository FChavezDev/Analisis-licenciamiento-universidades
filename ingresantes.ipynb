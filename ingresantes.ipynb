{
 "cells": [
  {
   "cell_type": "code",
   "execution_count": 4,
   "metadata": {},
   "outputs": [],
   "source": [
    "import pandas as pd \n",
    "import matplotlib.pyplot as plt \n",
    "import seaborn as sns"
   ]
  },
  {
   "cell_type": "code",
   "execution_count": 5,
   "metadata": {},
   "outputs": [],
   "source": [
    "df = pd.read_csv(\"Licenciamiento Institucional_18.csv\", encoding='latin1', delimiter='|')\n"
   ]
  },
  {
   "cell_type": "code",
   "execution_count": 36,
   "metadata": {},
   "outputs": [
    {
     "data": {
      "text/html": [
       "<div>\n",
       "<style scoped>\n",
       "    .dataframe tbody tr th:only-of-type {\n",
       "        vertical-align: middle;\n",
       "    }\n",
       "\n",
       "    .dataframe tbody tr th {\n",
       "        vertical-align: top;\n",
       "    }\n",
       "\n",
       "    .dataframe thead th {\n",
       "        text-align: right;\n",
       "    }\n",
       "</style>\n",
       "<table border=\"1\" class=\"dataframe\">\n",
       "  <thead>\n",
       "    <tr style=\"text-align: right;\">\n",
       "      <th></th>\n",
       "      <th>CODIGO_ENTIDAD</th>\n",
       "      <th>NOMBRE</th>\n",
       "      <th>TIPO_GESTION</th>\n",
       "      <th>ESTADO_LICENCIAMIENTO</th>\n",
       "      <th>FECHA_INICIO_LICENCIAMIENTO</th>\n",
       "      <th>FECHA_FIN_LICENCIAMIENTO</th>\n",
       "      <th>PERIODO_LICENCIAMIENTO</th>\n",
       "      <th>DEPARTAMENTO</th>\n",
       "      <th>PROVINCIA</th>\n",
       "      <th>DISTRITO</th>\n",
       "      <th>UBIGEO</th>\n",
       "      <th>LATITUD</th>\n",
       "      <th>LONGITUD</th>\n",
       "      <th>FECHA_CORTE</th>\n",
       "    </tr>\n",
       "  </thead>\n",
       "  <tbody>\n",
       "    <tr>\n",
       "      <th>0</th>\n",
       "      <td>1</td>\n",
       "      <td>UNIVERSIDAD NACIONAL MAYOR DE SAN MARCOS</td>\n",
       "      <td>PÚBLICO</td>\n",
       "      <td>LICENCIA OTORGADA</td>\n",
       "      <td>20180410.0</td>\n",
       "      <td>20280410.0</td>\n",
       "      <td>10</td>\n",
       "      <td>LIMA</td>\n",
       "      <td>LIMA</td>\n",
       "      <td>LIMA</td>\n",
       "      <td>140101</td>\n",
       "      <td>-12.056026</td>\n",
       "      <td>-77.084423</td>\n",
       "      <td>20240828</td>\n",
       "    </tr>\n",
       "    <tr>\n",
       "      <th>1</th>\n",
       "      <td>2</td>\n",
       "      <td>UNIVERSIDAD NACIONAL DE SAN CRISTÓBAL DE HUAMANGA</td>\n",
       "      <td>PÚBLICO</td>\n",
       "      <td>LICENCIA OTORGADA</td>\n",
       "      <td>20180601.0</td>\n",
       "      <td>20240601.0</td>\n",
       "      <td>6</td>\n",
       "      <td>AYACUCHO</td>\n",
       "      <td>HUAMANGA</td>\n",
       "      <td>AYACUCHO</td>\n",
       "      <td>50101</td>\n",
       "      <td>-13.161265</td>\n",
       "      <td>-74.225734</td>\n",
       "      <td>20240828</td>\n",
       "    </tr>\n",
       "    <tr>\n",
       "      <th>2</th>\n",
       "      <td>4</td>\n",
       "      <td>UNIVERSIDAD NACIONAL DE TRUJILLO</td>\n",
       "      <td>PÚBLICO</td>\n",
       "      <td>LICENCIA OTORGADA</td>\n",
       "      <td>20180921.0</td>\n",
       "      <td>20260921.0</td>\n",
       "      <td>8</td>\n",
       "      <td>LA LIBERTAD</td>\n",
       "      <td>TRUJILLO</td>\n",
       "      <td>TRUJILLO</td>\n",
       "      <td>120101</td>\n",
       "      <td>-8.114378</td>\n",
       "      <td>-79.037901</td>\n",
       "      <td>20240828</td>\n",
       "    </tr>\n",
       "    <tr>\n",
       "      <th>3</th>\n",
       "      <td>5</td>\n",
       "      <td>UNIVERSIDAD NACIONAL DE SAN AGUSTÍN DE AREQUIPA</td>\n",
       "      <td>PÚBLICO</td>\n",
       "      <td>LICENCIA OTORGADA</td>\n",
       "      <td>20180827.0</td>\n",
       "      <td>20280827.0</td>\n",
       "      <td>10</td>\n",
       "      <td>AREQUIPA</td>\n",
       "      <td>AREQUIPA</td>\n",
       "      <td>AREQUIPA</td>\n",
       "      <td>40101</td>\n",
       "      <td>-16.403293</td>\n",
       "      <td>-71.524889</td>\n",
       "      <td>20240828</td>\n",
       "    </tr>\n",
       "    <tr>\n",
       "      <th>4</th>\n",
       "      <td>6</td>\n",
       "      <td>UNIVERSIDAD NACIONAL DE INGENIERÍA</td>\n",
       "      <td>PÚBLICO</td>\n",
       "      <td>LICENCIA OTORGADA</td>\n",
       "      <td>20171128.0</td>\n",
       "      <td>20271128.0</td>\n",
       "      <td>10</td>\n",
       "      <td>LIMA</td>\n",
       "      <td>LIMA</td>\n",
       "      <td>RÍMAC</td>\n",
       "      <td>140122</td>\n",
       "      <td>-12.023739</td>\n",
       "      <td>-77.048376</td>\n",
       "      <td>20240828</td>\n",
       "    </tr>\n",
       "    <tr>\n",
       "      <th>...</th>\n",
       "      <td>...</td>\n",
       "      <td>...</td>\n",
       "      <td>...</td>\n",
       "      <td>...</td>\n",
       "      <td>...</td>\n",
       "      <td>...</td>\n",
       "      <td>...</td>\n",
       "      <td>...</td>\n",
       "      <td>...</td>\n",
       "      <td>...</td>\n",
       "      <td>...</td>\n",
       "      <td>...</td>\n",
       "      <td>...</td>\n",
       "      <td>...</td>\n",
       "    </tr>\n",
       "    <tr>\n",
       "      <th>138</th>\n",
       "      <td>109</td>\n",
       "      <td>UNIVERSIDAD PERUANA DE ARTE ORVAL S.A.C.</td>\n",
       "      <td>PRIVADO</td>\n",
       "      <td>LICENCIA DENEGADA</td>\n",
       "      <td>NaN</td>\n",
       "      <td>NaN</td>\n",
       "      <td>0</td>\n",
       "      <td>LIMA</td>\n",
       "      <td>LIMA</td>\n",
       "      <td>SAN BORJA</td>\n",
       "      <td>140140</td>\n",
       "      <td>-12.110886</td>\n",
       "      <td>-76.991262</td>\n",
       "      <td>20240828</td>\n",
       "    </tr>\n",
       "    <tr>\n",
       "      <th>139</th>\n",
       "      <td>113</td>\n",
       "      <td>UNIVERSIDAD PERUANA DE INVESTIGACIÓN Y NEGOCIO...</td>\n",
       "      <td>PRIVADO</td>\n",
       "      <td>LICENCIA DENEGADA</td>\n",
       "      <td>NaN</td>\n",
       "      <td>NaN</td>\n",
       "      <td>0</td>\n",
       "      <td>LIMA</td>\n",
       "      <td>LIMA</td>\n",
       "      <td>JESÚS MARÍA</td>\n",
       "      <td>140133</td>\n",
       "      <td>-12.082577</td>\n",
       "      <td>-77.046274</td>\n",
       "      <td>20240828</td>\n",
       "    </tr>\n",
       "    <tr>\n",
       "      <th>140</th>\n",
       "      <td>141</td>\n",
       "      <td>UNIVERSIDAD MARÍTIMA DEL PERÚ S.A.C.</td>\n",
       "      <td>PRIVADO</td>\n",
       "      <td>LICENCIA DENEGADA</td>\n",
       "      <td>NaN</td>\n",
       "      <td>NaN</td>\n",
       "      <td>0</td>\n",
       "      <td>CALLAO</td>\n",
       "      <td>PROV. CONST. DEL CALLAO</td>\n",
       "      <td>CALLAO</td>\n",
       "      <td>240101</td>\n",
       "      <td>-12.061497</td>\n",
       "      <td>-77.147177</td>\n",
       "      <td>20240828</td>\n",
       "    </tr>\n",
       "    <tr>\n",
       "      <th>141</th>\n",
       "      <td>149</td>\n",
       "      <td>FACULTAD DE TEOLOGÍA PONTIFICIA Y CIVIL DE LIMA</td>\n",
       "      <td>PRIVADO</td>\n",
       "      <td>LICENCIA OTORGADA</td>\n",
       "      <td>20200314.0</td>\n",
       "      <td>20260314.0</td>\n",
       "      <td>6</td>\n",
       "      <td>LIMA</td>\n",
       "      <td>LIMA</td>\n",
       "      <td>PUEBLO LIBRE</td>\n",
       "      <td>140117</td>\n",
       "      <td>-12.083644</td>\n",
       "      <td>-77.069218</td>\n",
       "      <td>20240828</td>\n",
       "    </tr>\n",
       "    <tr>\n",
       "      <th>142</th>\n",
       "      <td>57</td>\n",
       "      <td>UNIVERSIDAD SAN IGNACIO DE LOYOLA S.R.L.</td>\n",
       "      <td>PRIVADO</td>\n",
       "      <td>LICENCIA OTORGADA</td>\n",
       "      <td>20171009.0</td>\n",
       "      <td>20231009.0</td>\n",
       "      <td>6</td>\n",
       "      <td>LIMA</td>\n",
       "      <td>LIMA</td>\n",
       "      <td>LA MOLINA</td>\n",
       "      <td>140110</td>\n",
       "      <td>-12.073292</td>\n",
       "      <td>-76.953844</td>\n",
       "      <td>20240828</td>\n",
       "    </tr>\n",
       "  </tbody>\n",
       "</table>\n",
       "<p>143 rows × 14 columns</p>\n",
       "</div>"
      ],
      "text/plain": [
       "     CODIGO_ENTIDAD                                             NOMBRE  \\\n",
       "0                 1           UNIVERSIDAD NACIONAL MAYOR DE SAN MARCOS   \n",
       "1                 2  UNIVERSIDAD NACIONAL DE SAN CRISTÓBAL DE HUAMANGA   \n",
       "2                 4                   UNIVERSIDAD NACIONAL DE TRUJILLO   \n",
       "3                 5    UNIVERSIDAD NACIONAL DE SAN AGUSTÍN DE AREQUIPA   \n",
       "4                 6                 UNIVERSIDAD NACIONAL DE INGENIERÍA   \n",
       "..              ...                                                ...   \n",
       "138             109           UNIVERSIDAD PERUANA DE ARTE ORVAL S.A.C.   \n",
       "139             113  UNIVERSIDAD PERUANA DE INVESTIGACIÓN Y NEGOCIO...   \n",
       "140             141               UNIVERSIDAD MARÍTIMA DEL PERÚ S.A.C.   \n",
       "141             149    FACULTAD DE TEOLOGÍA PONTIFICIA Y CIVIL DE LIMA   \n",
       "142              57           UNIVERSIDAD SAN IGNACIO DE LOYOLA S.R.L.   \n",
       "\n",
       "    TIPO_GESTION ESTADO_LICENCIAMIENTO  FECHA_INICIO_LICENCIAMIENTO  \\\n",
       "0        PÚBLICO     LICENCIA OTORGADA                   20180410.0   \n",
       "1        PÚBLICO     LICENCIA OTORGADA                   20180601.0   \n",
       "2        PÚBLICO     LICENCIA OTORGADA                   20180921.0   \n",
       "3        PÚBLICO     LICENCIA OTORGADA                   20180827.0   \n",
       "4        PÚBLICO     LICENCIA OTORGADA                   20171128.0   \n",
       "..           ...                   ...                          ...   \n",
       "138      PRIVADO     LICENCIA DENEGADA                          NaN   \n",
       "139      PRIVADO     LICENCIA DENEGADA                          NaN   \n",
       "140      PRIVADO     LICENCIA DENEGADA                          NaN   \n",
       "141      PRIVADO     LICENCIA OTORGADA                   20200314.0   \n",
       "142      PRIVADO     LICENCIA OTORGADA                   20171009.0   \n",
       "\n",
       "     FECHA_FIN_LICENCIAMIENTO  PERIODO_LICENCIAMIENTO DEPARTAMENTO  \\\n",
       "0                  20280410.0                      10         LIMA   \n",
       "1                  20240601.0                       6     AYACUCHO   \n",
       "2                  20260921.0                       8  LA LIBERTAD   \n",
       "3                  20280827.0                      10     AREQUIPA   \n",
       "4                  20271128.0                      10         LIMA   \n",
       "..                        ...                     ...          ...   \n",
       "138                       NaN                       0         LIMA   \n",
       "139                       NaN                       0         LIMA   \n",
       "140                       NaN                       0       CALLAO   \n",
       "141                20260314.0                       6         LIMA   \n",
       "142                20231009.0                       6         LIMA   \n",
       "\n",
       "                   PROVINCIA      DISTRITO  UBIGEO    LATITUD   LONGITUD  \\\n",
       "0                       LIMA          LIMA  140101 -12.056026 -77.084423   \n",
       "1                   HUAMANGA      AYACUCHO   50101 -13.161265 -74.225734   \n",
       "2                   TRUJILLO      TRUJILLO  120101  -8.114378 -79.037901   \n",
       "3                   AREQUIPA      AREQUIPA   40101 -16.403293 -71.524889   \n",
       "4                       LIMA         RÍMAC  140122 -12.023739 -77.048376   \n",
       "..                       ...           ...     ...        ...        ...   \n",
       "138                     LIMA     SAN BORJA  140140 -12.110886 -76.991262   \n",
       "139                     LIMA   JESÚS MARÍA  140133 -12.082577 -77.046274   \n",
       "140  PROV. CONST. DEL CALLAO        CALLAO  240101 -12.061497 -77.147177   \n",
       "141                     LIMA  PUEBLO LIBRE  140117 -12.083644 -77.069218   \n",
       "142                     LIMA     LA MOLINA  140110 -12.073292 -76.953844   \n",
       "\n",
       "     FECHA_CORTE  \n",
       "0       20240828  \n",
       "1       20240828  \n",
       "2       20240828  \n",
       "3       20240828  \n",
       "4       20240828  \n",
       "..           ...  \n",
       "138     20240828  \n",
       "139     20240828  \n",
       "140     20240828  \n",
       "141     20240828  \n",
       "142     20240828  \n",
       "\n",
       "[143 rows x 14 columns]"
      ]
     },
     "execution_count": 36,
     "metadata": {},
     "output_type": "execute_result"
    }
   ],
   "source": [
    "df"
   ]
  },
  {
   "cell_type": "markdown",
   "metadata": {},
   "source": [
    "#Distribucion de universidades licenciadas vs no licenciadas"
   ]
  },
  {
   "cell_type": "code",
   "execution_count": 29,
   "metadata": {},
   "outputs": [
    {
     "data": {
      "image/png": "[encoded data removed]",
      "text/plain": [
       "<Figure size 640x480 with 1 Axes>"
      ]
     },
     "metadata": {},
     "output_type": "display_data"
    }
   ],
   "source": [
    "sns.countplot(x=\"ESTADO_LICENCIAMIENTO\", data=df)\n",
    "plt.show()"
   ]
  },
  {
   "cell_type": "markdown",
   "metadata": {},
   "source": [
    "#Universidad con el periodo de licenciamineto mas largo"
   ]
  },
  {
   "cell_type": "code",
   "execution_count": 31,
   "metadata": {},
   "outputs": [
    {
     "name": "stdout",
     "output_type": "stream",
     "text": [
      "La universidad con el periodo de licenciamiento más largo es UNIVERSIDAD NACIONAL MAYOR DE SAN MARCOS con un periodo de 10 años.\n"
     ]
    }
   ],
   "source": [
    "universidad_max_periodo = df.loc[df['PERIODO_LICENCIAMIENTO'].idxmax()]\n",
    "print(f\"La universidad con el periodo de licenciamiento más largo es {universidad_max_periodo['NOMBRE']} con un periodo de {universidad_max_periodo['PERIODO_LICENCIAMIENTO']} años.\")\n"
   ]
  },
  {
   "cell_type": "markdown",
   "metadata": {},
   "source": [
    "#Conteo de universidades licenciadas por periodo"
   ]
  },
  {
   "cell_type": "code",
   "execution_count": 25,
   "metadata": {},
   "outputs": [
    {
     "name": "stdout",
     "output_type": "stream",
     "text": [
      "PERIODO_LICENCIAMIENTO\n",
      "6     85\n",
      "8      6\n",
      "10     5\n",
      "dtype: int64\n"
     ]
    }
   ],
   "source": [
    "licenciamiento_por_periodo = df[df['ESTADO_LICENCIAMIENTO'] == 'LICENCIA OTORGADA'].groupby('PERIODO_LICENCIAMIENTO').size()\n",
    "print(licenciamiento_por_periodo)\n"
   ]
  },
  {
   "cell_type": "markdown",
   "metadata": {},
   "source": [
    "#5 universidades con el periodo de licenciamiento mas corto"
   ]
  },
  {
   "cell_type": "code",
   "execution_count": 34,
   "metadata": {},
   "outputs": [
    {
     "name": "stdout",
     "output_type": "stream",
     "text": [
      "                                               NOMBRE  PERIODO_LICENCIAMIENTO\n",
      "59  UNIVERSIDAD NACIONAL TECNOLÓGICA DE SAN JUAN D...                       0\n",
      "60       UNIVERSIDAD AUTÓNOMA MUNICIPAL DE LOS OLIVOS                       0\n",
      "63           UNIVERSIDAD SEMINARIO EVANGÉLICO DE LIMA                       0\n",
      "64               UNIVERSIDAD SEMINARIO BÍBLICO ANDINO                       0\n",
      "72  UNIVERSIDAD INCA GARCILASO DE LA VEGA ASOCIACI...                       0\n"
     ]
    }
   ],
   "source": [
    "top_5_corto = df.nsmallest(5, 'PERIODO_LICENCIAMIENTO')\n",
    "print(top_5_corto[['NOMBRE', 'PERIODO_LICENCIAMIENTO']])\n",
    "\n"
   ]
  },
  {
   "cell_type": "markdown",
   "metadata": {},
   "source": [
    "#Promedio de licenciaminento de las universidades "
   ]
  },
  {
   "cell_type": "code",
   "execution_count": 35,
   "metadata": {},
   "outputs": [
    {
     "name": "stdout",
     "output_type": "stream",
     "text": [
      "El periodo promedio de licenciamiento es 4.251748251748252 años.\n"
     ]
    }
   ],
   "source": [
    "promedio_licenciamiento = df['PERIODO_LICENCIAMIENTO'].mean()\n",
    "print(f\"El periodo promedio de licenciamiento es {promedio_licenciamiento} años.\")\n"
   ]
  }
 ],
 "metadata": {
  "kernelspec": {
   "display_name": "base",
   "language": "python",
   "name": "python3"
  },
  "language_info": {
   "codemirror_mode": {
    "name": "ipython",
    "version": 3
   },
   "file_extension": ".py",
   "mimetype": "text/x-python",
   "name": "python",
   "nbconvert_exporter": "python",
   "pygments_lexer": "ipython3",
   "version": "3.12.3"
  }
 },
 "nbformat": 4,
 "nbformat_minor": 2
}
